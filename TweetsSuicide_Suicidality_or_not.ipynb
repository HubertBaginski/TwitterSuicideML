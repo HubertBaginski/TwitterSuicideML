{
 "cells": [
  {
   "cell_type": "code",
   "execution_count": 14,
   "metadata": {},
   "outputs": [],
   "source": [
    "from collections import Counter\n",
    "\n",
    "import emoji\n",
    "import ktrain\n",
    "import numpy as np\n",
    "import pandas as pd\n",
    "import seaborn as sns\n",
    "from matplotlib import pyplot as plt\n",
    "from sklearn.model_selection import train_test_split\n",
    "\n",
    "from twitterFunctions.cross_validation import run_SVM_CV\n",
    "from twitterFunctions.performanceMetrics import get_performance\n",
    "from twitterFunctions.processing import (\n",
    "    fix_emotes,\n",
    "    process_token_fin,\n",
    "    process_tweet,\n",
    ")\n",
    "from twitterFunctions.training import predict_test, set_seeds, train_learner\n",
    "\n",
    "\n",
    "plt.rcdefaults()\n",
    "\n",
    "\n",
    "SEED = 1"
   ]
  },
  {
   "cell_type": "code",
   "execution_count": 4,
   "metadata": {},
   "outputs": [],
   "source": [
    "# load training data\n",
    "file = \"./data/training_posts20201201_main_categories.tsv\"\n",
    "# read training data\n",
    "df = pd.read_csv(file, sep=\"\\t\")"
   ]
  },
  {
   "cell_type": "code",
   "execution_count": 5,
   "metadata": {},
   "outputs": [],
   "source": [
    "# filter relevant columns\n",
    "df = df[[\"notserious_unclear\", \"focus\", \"type\", \"about_suicide\", \"contents\"]]\n",
    "# rename class and text columns\n",
    "col_names = [\"notserious_unclear\", \"focus\", \"type\", \"class\", \"text\"]\n",
    "df.columns=col_names\n",
    "# mapping of 0's and 1's to correct and false\n",
    "di = {\n",
    "    1: \"correct\", # you can map it as you see fit\n",
    "    0: \"false\",\n",
    "}\n",
    "\n",
    "df[\"class\"].replace(di, inplace=True)"
   ]
  },
  {
   "cell_type": "code",
   "execution_count": 6,
   "metadata": {},
   "outputs": [
    {
     "data": {
      "text/html": [
       "<div>\n",
       "<style scoped>\n",
       "    .dataframe tbody tr th:only-of-type {\n",
       "        vertical-align: middle;\n",
       "    }\n",
       "\n",
       "    .dataframe tbody tr th {\n",
       "        vertical-align: top;\n",
       "    }\n",
       "\n",
       "    .dataframe thead th {\n",
       "        text-align: right;\n",
       "    }\n",
       "</style>\n",
       "<table border=\"1\" class=\"dataframe\">\n",
       "  <thead>\n",
       "    <tr style=\"text-align: right;\">\n",
       "      <th></th>\n",
       "      <th>notserious_unclear</th>\n",
       "      <th>focus</th>\n",
       "      <th>type</th>\n",
       "      <th>class</th>\n",
       "      <th>text</th>\n",
       "    </tr>\n",
       "  </thead>\n",
       "  <tbody>\n",
       "    <tr>\n",
       "      <th>0</th>\n",
       "      <td>0</td>\n",
       "      <td>1</td>\n",
       "      <td>4</td>\n",
       "      <td>correct</td>\n",
       "      <td>This is why joking about suicide on social med...</td>\n",
       "    </tr>\n",
       "    <tr>\n",
       "      <th>1</th>\n",
       "      <td>0</td>\n",
       "      <td>1</td>\n",
       "      <td>4</td>\n",
       "      <td>correct</td>\n",
       "      <td>Impulse - Ellen Hopkins-three teens meet in ho...</td>\n",
       "    </tr>\n",
       "    <tr>\n",
       "      <th>2</th>\n",
       "      <td>0</td>\n",
       "      <td>1</td>\n",
       "      <td>4</td>\n",
       "      <td>correct</td>\n",
       "      <td>@User A darker subjectPeople who want to commi...</td>\n",
       "    </tr>\n",
       "    <tr>\n",
       "      <th>3</th>\n",
       "      <td>0</td>\n",
       "      <td>1</td>\n",
       "      <td>4</td>\n",
       "      <td>correct</td>\n",
       "      <td>@User Dear God,Please continue working miracle...</td>\n",
       "    </tr>\n",
       "    <tr>\n",
       "      <th>4</th>\n",
       "      <td>0</td>\n",
       "      <td>1</td>\n",
       "      <td>4</td>\n",
       "      <td>correct</td>\n",
       "      <td>It Just Keeps Getting Worse: The Braxton Caner...</td>\n",
       "    </tr>\n",
       "  </tbody>\n",
       "</table>\n",
       "</div>"
      ],
      "text/plain": [
       "   notserious_unclear  focus  type    class  \\\n",
       "0                   0      1     4  correct   \n",
       "1                   0      1     4  correct   \n",
       "2                   0      1     4  correct   \n",
       "3                   0      1     4  correct   \n",
       "4                   0      1     4  correct   \n",
       "\n",
       "                                                text  \n",
       "0  This is why joking about suicide on social med...  \n",
       "1  Impulse - Ellen Hopkins-three teens meet in ho...  \n",
       "2  @User A darker subjectPeople who want to commi...  \n",
       "3  @User Dear God,Please continue working miracle...  \n",
       "4  It Just Keeps Getting Worse: The Braxton Caner...  "
      ]
     },
     "execution_count": 6,
     "metadata": {},
     "output_type": "execute_result"
    }
   ],
   "source": [
    "df.head()"
   ]
  },
  {
   "cell_type": "code",
   "execution_count": 7,
   "metadata": {
    "scrolled": true
   },
   "outputs": [
    {
     "data": {
      "text/plain": [
       "<module 'matplotlib.pyplot' from 'C:\\\\Users\\\\Hubert\\\\AppData\\\\Roaming\\\\Python\\\\Python36\\\\site-packages\\\\matplotlib\\\\pyplot.py'>"
      ]
     },
     "execution_count": 7,
     "metadata": {},
     "output_type": "execute_result"
    },
    {
     "data": {
      "image/png": "[encoded data removed]",
      "text/plain": [
       "<Figure size 432x288 with 1 Axes>"
      ]
     },
     "metadata": {},
     "output_type": "display_data"
    }
   ],
   "source": [
    "# here we print the class frequency distributions\n",
    "freq_combined = Counter(df[\"class\"].values)\n",
    "objects = []\n",
    "values = []\n",
    "for i in freq_combined.keys():\n",
    "    objects.append(i)\n",
    "for i in freq_combined.values():\n",
    "    values.append(i)\n",
    "    \n",
    "y_pos = np.arange(len(objects))\n",
    "\n",
    "plt.bar(y_pos, values, align='center', alpha=0.5)\n",
    "plt.xticks(y_pos, objects)\n",
    "plt.ylabel('Frequency ')\n",
    "plt.title('Class distribution tweets')\n",
    "plt.xticks(rotation=90)\n",
    "plt"
   ]
  },
  {
   "cell_type": "code",
   "execution_count": 8,
   "metadata": {},
   "outputs": [],
   "source": [
    "# we run the preprocessing from the /twitterFunctions/processing.py\n",
    "# here we use 3 functions (each loops over the entire dataset, they have to run sequentailly)\n",
    "# if it takes too long one can make one function with all preprocessing - this recudes the runtime significantly\n",
    "temp = df.text.apply(process_tweet)\n",
    "# emojy mapping\n",
    "emojis = temp.apply(emoji.emojize)\n",
    "emojis = emojis.apply(fix_emotes)\n",
    "cleaned_text = emojis\n",
    "X_train_str = process_token_fin(cleaned_text)"
   ]
  },
  {
   "cell_type": "code",
   "execution_count": 9,
   "metadata": {},
   "outputs": [],
   "source": [
    "# train val and test split\n",
    "# stratify=df[\"class\"] ensures that the subsets contain a similar distributions as original data\n",
    "X_train, X_test, y_train, y_test = train_test_split(X_train_str\n",
    "                    , df[\"class\"],test_size=0.2, random_state=1, stratify=df[\"class\"])\n",
    "\n",
    "X_train, X_val, y_train, y_val = train_test_split(X_train\n",
    "                    , y_train,test_size=0.2, random_state=1, stratify=y_train)\n",
    "class_names = np.unique(y_train)"
   ]
  },
  {
   "cell_type": "markdown",
   "metadata": {},
   "source": [
    "# Majority Classifier"
   ]
  },
  {
   "cell_type": "code",
   "execution_count": 10,
   "metadata": {},
   "outputs": [],
   "source": [
    "majority_class = Counter(y_train).most_common()[0][0]\n",
    "y_val_predicted = np.repeat(majority_class, len(y_val))\n",
    "y_test_predicted = np.repeat(majority_class, len(y_test))"
   ]
  },
  {
   "cell_type": "code",
   "execution_count": 11,
   "metadata": {},
   "outputs": [
    {
     "name": "stdout",
     "output_type": "stream",
     "text": [
      "Prec:  0.3732943469785575 ; Rec:  0.5 F1:  0.42745535714285715 ; Acc:  0.746588693957115\n",
      "[[383   0]\n",
      " [130   0]]\n",
      "Prec:  0.37285491419656785 ; Rec:  0.5 F1:  0.4271671134941913 ; Acc:  0.7457098283931357\n",
      "[[478   0]\n",
      " [163   0]]\n"
     ]
    },
    {
     "name": "stderr",
     "output_type": "stream",
     "text": [
      "C:\\Users\\Hubert\\AppData\\Roaming\\Python\\Python36\\site-packages\\sklearn\\metrics\\_classification.py:1221: UndefinedMetricWarning: Precision is ill-defined and being set to 0.0 in labels with no predicted samples. Use `zero_division` parameter to control this behavior.\n",
      "  _warn_prf(average, modifier, msg_start, len(result))\n",
      "C:\\Users\\Hubert\\AppData\\Roaming\\Python\\Python36\\site-packages\\sklearn\\metrics\\_classification.py:1221: UndefinedMetricWarning: Precision is ill-defined and being set to 0.0 in labels with no predicted samples. Use `zero_division` parameter to control this behavior.\n",
      "  _warn_prf(average, modifier, msg_start, len(result))\n"
     ]
    }
   ],
   "source": [
    "validation_results = get_performance(\n",
    "    y_val, y_val_predicted, list(Counter(y_train).keys()))\n",
    "test_results = get_performance(\n",
    "    y_test, y_test_predicted, list(Counter(y_train).keys()))"
   ]
  },
  {
   "cell_type": "markdown",
   "metadata": {},
   "source": [
    "# TFIDF"
   ]
  },
  {
   "cell_type": "code",
   "execution_count": 14,
   "metadata": {},
   "outputs": [
    {
     "name": "stdout",
     "output_type": "stream",
     "text": [
      "Prec:  0.7634941601779754 ; Rec:  0.7432232974818389 F1:  0.7521400570681884 ; Acc:  0.8190327613104524\n",
      "[[429  49]\n",
      " [ 67  96]]\n"
     ]
    }
   ],
   "source": [
    "print(\"Validation Performance: \\n\")\n",
    "model = run_SVM_CV(X_train, X_val, y_train, y_val)\n",
    "pred = model.predict(X_test)\n",
    "print(\"Test Performance: \\n\")\n",
    "mat = get_performance(y_test.values, pred, list(class_names))"
   ]
  },
  {
   "cell_type": "markdown",
   "metadata": {},
   "source": [
    "## Saving and loading sklearn models\n",
    "\n",
    "for more information check out this article: \n",
    "https://machinelearningmastery.com/save-load-machine-learning-models-python-scikit-learn/"
   ]
  },
  {
   "cell_type": "code",
   "execution_count": null,
   "metadata": {},
   "outputs": [],
   "source": [
    "import pickle\n",
    "# save the model to disk\n",
    "filename = 'finalized_model.sav'\n",
    "pickle.dump(model, open(filename, 'wb'))"
   ]
  },
  {
   "cell_type": "code",
   "execution_count": null,
   "metadata": {},
   "outputs": [],
   "source": [
    "# loading the model from disk\n",
    "loaded_model = pickle.load(open(filename, 'rb'))\n",
    "result = loaded_model.predict(X_test)\n",
    "mat = get_performance(y_test.values, result, classNames2)\n"
   ]
  },
  {
   "cell_type": "markdown",
   "metadata": {},
   "source": [
    "# Training BERT / XLNET model"
   ]
  },
  {
   "cell_type": "code",
   "execution_count": 12,
   "metadata": {},
   "outputs": [
    {
     "name": "stdout",
     "output_type": "stream",
     "text": [
      "preprocessing train...\n",
      "language: en\n",
      "train sequence lengths:\n",
      "\tmean : 25\n",
      "\t95percentile : 57\n",
      "\t99percentile : 67\n"
     ]
    },
    {
     "name": "stderr",
     "output_type": "stream",
     "text": [
      "D:\\Anaconda\\lib\\site-packages\\ktrain\\utils.py:588: UserWarning: class_names argument was ignored, as they were extracted from string labels in dataset\n",
      "  if self.get_classes(): warnings.warn('class_names argument was ignored, as they were extracted from string labels in dataset')\n"
     ]
    },
    {
     "data": {
      "text/html": [],
      "text/plain": [
       "<IPython.core.display.HTML object>"
      ]
     },
     "metadata": {},
     "output_type": "display_data"
    },
    {
     "name": "stdout",
     "output_type": "stream",
     "text": [
      "Is Multi-Label? False\n",
      "preprocessing test...\n",
      "language: en\n",
      "test sequence lengths:\n",
      "\tmean : 25\n",
      "\t95percentile : 57\n",
      "\t99percentile : 69\n"
     ]
    },
    {
     "data": {
      "text/html": [],
      "text/plain": [
       "<IPython.core.display.HTML object>"
      ]
     },
     "metadata": {},
     "output_type": "display_data"
    },
    {
     "name": "stdout",
     "output_type": "stream",
     "text": [
      "\n",
      "\n",
      "begin training using onecycle policy with max lr of 3e-05...\n",
      "Epoch 1/5\n",
      "64/64 [==============================] - 57s 898ms/step - loss: 0.5941 - accuracy: 0.6943 - val_loss: 0.5311 - val_accuracy: 0.7466\n",
      "Epoch 2/5\n",
      "64/64 [==============================] - 58s 908ms/step - loss: 0.4297 - accuracy: 0.7993 - val_loss: 0.3224 - val_accuracy: 0.8733\n",
      "Epoch 3/5\n",
      "64/64 [==============================] - 56s 883ms/step - loss: 0.2717 - accuracy: 0.8921 - val_loss: 0.2838 - val_accuracy: 0.8577\n",
      "Epoch 4/5\n",
      "64/64 [==============================] - 56s 873ms/step - loss: 0.1122 - accuracy: 0.9648 - val_loss: 0.3069 - val_accuracy: 0.8908\n",
      "Epoch 5/5\n",
      "64/64 [==============================] - 54s 839ms/step - loss: 0.0587 - accuracy: 0.9849 - val_loss: 0.3758 - val_accuracy: 0.8811\n"
     ]
    }
   ],
   "source": [
    "original_learner = train_learner(\n",
    "    X_train, y_train.values,\n",
    "    X_val, y_val.values,\n",
    "    lr=3e-5, epoch=5, seed=1, text_length=80,  # parameters for the training\n",
    "    #   checkpoint_folder=\"D:/models/test/\",   # add the path where the checkpoints should be saved\n",
    "    model_name=\"bert-base-uncased\"  # xlnet-base-cased\"\n",
    ")"
   ]
  },
  {
   "cell_type": "markdown",
   "metadata": {},
   "source": [
    "## After the training has finished, you will see the training statistics. I usually choose the epoch with the highest validation accuracy (if two performances were similar I chose the one with the lower validation loss).\n",
    "\n",
    "If you used a checkpoint folder, you can load the model with the best performance rather than the last epoch. E.g. if you trained for 5 epochs, the default behaviour is that the model will use the last run, i.e. epoch 5. But if the performance of epoch 5 is worse than epoch 3, you can manually load the weights of epoch 3. See below:"
   ]
  },
  {
   "cell_type": "code",
   "execution_count": 15,
   "metadata": {
    "scrolled": false
   },
   "outputs": [
    {
     "name": "stdout",
     "output_type": "stream",
     "text": [
      "preprocessing test...\n",
      "language: en\n",
      "test sequence lengths:\n",
      "\tmean : 25\n",
      "\t95percentile : 57\n",
      "\t99percentile : 69\n"
     ]
    },
    {
     "data": {
      "text/html": [],
      "text/plain": [
       "<IPython.core.display.HTML object>"
      ]
     },
     "metadata": {},
     "output_type": "display_data"
    },
    {
     "name": "stdout",
     "output_type": "stream",
     "text": [
      "              precision    recall  f1-score   support\n",
      "\n",
      "           0       0.90      0.94      0.92       383\n",
      "           1       0.81      0.70      0.75       130\n",
      "\n",
      "    accuracy                           0.88       513\n",
      "   macro avg       0.85      0.82      0.84       513\n",
      "weighted avg       0.88      0.88      0.88       513\n",
      "\n",
      "Prec:  0.8539048672566372 ; Rec:  0.8212793733681463 F1:  0.8355328508585214 ; Acc:  0.8810916179337231\n",
      "[[361  22]\n",
      " [ 39  91]]\n",
      "preprocessing test...\n",
      "language: en\n",
      "test sequence lengths:\n",
      "\tmean : 25\n",
      "\t95percentile : 56\n",
      "\t99percentile : 65\n"
     ]
    },
    {
     "data": {
      "text/html": [],
      "text/plain": [
       "<IPython.core.display.HTML object>"
      ]
     },
     "metadata": {},
     "output_type": "display_data"
    },
    {
     "name": "stdout",
     "output_type": "stream",
     "text": [
      "              precision    recall  f1-score   support\n",
      "\n",
      "     correct       0.88      0.93      0.91       478\n",
      "       false       0.76      0.64      0.70       163\n",
      "\n",
      "    accuracy                           0.86       641\n",
      "   macro avg       0.82      0.79      0.80       641\n",
      "weighted avg       0.85      0.86      0.85       641\n",
      "\n",
      "Prec:  0.8239370995923121 ; Rec:  0.7855456015606952 F1:  0.8015392100490955 ; Acc:  0.858034321372855\n",
      "[[446  32]\n",
      " [ 59 104]]\n"
     ]
    }
   ],
   "source": [
    "# original_learner[4].load_weights(\"D:/models/test/weights-01.hdf5\") # your path + weights-01.hdf5\n",
    "# where weights-*BEST_EPOCH*.hdf5\n",
    "learner_reloaded = ktrain.get_learner(\n",
    "    original_learner[4], train_data=original_learner[2], val_data=original_learner[3], batch_size=2)\n",
    "\n",
    "model_ = learner_reloaded\n",
    "t_ = original_learner[1]\n",
    "trn_ = original_learner[2]\n",
    "# setting seeds (redundantly) before predicting validation set\n",
    "set_seeds(SEED)\n",
    "classNames2 = np.unique(y_train)\n",
    "# usually you only have to do this if you are interested in inter-class statistics of the validation set:D\n",
    "# PREDICT ON VALIDATION SET\n",
    "pred = predict_test(X_val, model_,\n",
    "                    t=t_,\n",
    "                    trn=trn_)\n",
    "predictor = pred[1]\n",
    "val = t_.preprocess_test(X_val, y_val.values)\n",
    "model_.validate(val_data=val)\n",
    "mat = get_performance(y_val.values, pred[0], classNames2)\n",
    "\n",
    "# predict TEST set, this one you must always do!\n",
    "set_seeds(SEED)\n",
    "pred = predict_test(X_test, model_,\n",
    "                    t=t_,\n",
    "                    trn=trn_)\n",
    "predictor = pred[1]\n",
    "test = t_.preprocess_test(X_test, y_test.values)\n",
    "model_.validate(val_data=test, class_names=list(classNames2))\n",
    "mat = get_performance(y_test.values, pred[0], classNames2)"
   ]
  },
  {
   "cell_type": "code",
   "execution_count": 16,
   "metadata": {},
   "outputs": [
    {
     "data": {
      "text/plain": [
       "array([0.88316832, 0.76470588])"
      ]
     },
     "execution_count": 16,
     "metadata": {},
     "output_type": "execute_result"
    }
   ],
   "source": [
    "# in binary classification we can get interclass precision by using the confusion matrix\n",
    "mat.diagonal()/mat.sum(axis=0)"
   ]
  },
  {
   "cell_type": "markdown",
   "metadata": {},
   "source": [
    "## Saving a ktrain model\n",
    "\n",
    "If the test performance was good, and you want to save the actual model (not only the weights of the training) call **predictor.save( \"yourPath\")**."
   ]
  },
  {
   "cell_type": "code",
   "execution_count": null,
   "metadata": {},
   "outputs": [],
   "source": [
    "# saving the best model / predictor\n",
    "predictor.save('D:/models/Twitter_about_suicide_final')"
   ]
  },
  {
   "cell_type": "code",
   "execution_count": 16,
   "metadata": {},
   "outputs": [
    {
     "data": {
      "image/png": "[encoded data removed]",
      "text/plain": [
       "<Figure size 600x492 with 2 Axes>"
      ]
     },
     "metadata": {},
     "output_type": "display_data"
    }
   ],
   "source": [
    "#mat = get_performance(y_test.values, pred, classNames2)\n",
    "mat = [[21,5], [10,64]]\n",
    "labels = y_test.values\n",
    "capitalized = [i.capitalize() for i in class_names]\n",
    "index = columns = capitalized\n",
    "cm_df = pd.DataFrame(mat/np.sum(mat),columns,index)                      \n",
    "plt.figure(figsize=(6,4.92))  \n",
    "sns.heatmap(cm_df, annot=True, fmt=\".0%\"\n",
    "           )\n",
    "plt.yticks(rotation=0, fontsize=12) \n",
    "plt.xlabel(\"Predicted class\", fontsize=20)\n",
    "plt.ylabel(\"Original class\", fontsize=20)\n",
    "plt.title(\"Confusion matrix test set, n=641\", fontsize=20)\n",
    "plt.show()"
   ]
  }
 ],
 "metadata": {
  "kernelspec": {
   "display_name": "Python 3",
   "language": "python",
   "name": "python3"
  },
  "language_info": {
   "codemirror_mode": {
    "name": "ipython",
    "version": 3
   },
   "file_extension": ".py",
   "mimetype": "text/x-python",
   "name": "python",
   "nbconvert_exporter": "python",
   "pygments_lexer": "ipython3",
   "version": "3.6.5"
  }
 },
 "nbformat": 4,
 "nbformat_minor": 2
}
