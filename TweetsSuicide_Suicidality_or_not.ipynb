{
 "cells": [
  {
   "cell_type": "code",
   "execution_count": 20,
   "metadata": {},
   "outputs": [],
   "source": [
    "import re\n",
    "import numpy as np\n",
    "import os\n",
    "import pandas as pd\n",
    "import nltk\n",
    "import sklearn\n",
    "from sklearn.model_selection import train_test_split\n",
    "import torch\n",
    "import torchvision\n",
    "import torch.nn as nn\n",
    "import torch.optim as optim\n",
    "import torch.nn.functional as F\n",
    "import torchtext\n",
    "from collections import Counter\n",
    "import sklearn\n",
    "import re\n",
    "import random\n",
    "from sklearn.metrics import f1_score, precision_score, recall_score, accuracy_score, confusion_matrix\n",
    "import matplotlib.pyplot as plt; plt.rcdefaults()\n",
    "import string\n",
    "from pattern.en import suggest\n",
    "import ktrain\n",
    "from ktrain import text\n",
    "import seaborn as sns\n",
    "import tensorflow as tf\n",
    "from tqdm import tqdm\n",
    "import math\n",
    "import random\n",
    "import emoji\n",
    "import nlpaug.augmenter.word as naw\n",
    "import sklearn\n",
    "from imblearn.over_sampling import SMOTE\n",
    "from sklearn.feature_extraction.text import TfidfVectorizer, CountVectorizer\n",
    "from sklearn.svm import SVC\n",
    "from sklearn.pipeline import Pipeline\n",
    "from imblearn.pipeline import Pipeline\n",
    "from sklearn.model_selection import GridSearchCV\n",
    "# import of custom functions from local files\n",
    "from twitterFunctions.processing import processMe,process_token_fin,fix_emotes"
   ]
  },
  {
   "cell_type": "code",
   "execution_count": 2,
   "metadata": {},
   "outputs": [],
   "source": [
    "# load training data\n",
    "file = \"./data/training_posts20201201_main_categories.tsv\"\n",
    "# read training data\n",
    "df = pd.read_csv(file, sep=\"\\t\")"
   ]
  },
  {
   "cell_type": "code",
   "execution_count": 3,
   "metadata": {},
   "outputs": [],
   "source": [
    "# remove exxagerations, we tested the impact, but ended up using the full data\n",
    "#df = df[df[\"ambiguous\"] != \"exaggeration\"]"
   ]
  },
  {
   "cell_type": "code",
   "execution_count": 4,
   "metadata": {},
   "outputs": [],
   "source": [
    "# filter relevant columns\n",
    "df = df[[\"notserious_unclear\", \"focus\", \"type\", \"about_suicide\", \"contents\"]]\n",
    "# rename class and text columns\n",
    "colNames = [\"notserious_unclear\", \"focus\", \"type\", \"class\", \"text\"]\n",
    "df.columns=colNames\n",
    "# mapping of 0's and 1's to correct and false\n",
    "di = {\n",
    "    1: \"correct\", # you can map it as you see fit\n",
    "    0: \"false\",\n",
    "}\n",
    "\n",
    "df[\"class\"].replace(di, inplace=True)"
   ]
  },
  {
   "cell_type": "code",
   "execution_count": 5,
   "metadata": {},
   "outputs": [
    {
     "data": {
      "text/html": [
       "<div>\n",
       "<style scoped>\n",
       "    .dataframe tbody tr th:only-of-type {\n",
       "        vertical-align: middle;\n",
       "    }\n",
       "\n",
       "    .dataframe tbody tr th {\n",
       "        vertical-align: top;\n",
       "    }\n",
       "\n",
       "    .dataframe thead th {\n",
       "        text-align: right;\n",
       "    }\n",
       "</style>\n",
       "<table border=\"1\" class=\"dataframe\">\n",
       "  <thead>\n",
       "    <tr style=\"text-align: right;\">\n",
       "      <th></th>\n",
       "      <th>notserious_unclear</th>\n",
       "      <th>focus</th>\n",
       "      <th>type</th>\n",
       "      <th>class</th>\n",
       "      <th>text</th>\n",
       "    </tr>\n",
       "  </thead>\n",
       "  <tbody>\n",
       "    <tr>\n",
       "      <th>0</th>\n",
       "      <td>0</td>\n",
       "      <td>1</td>\n",
       "      <td>4</td>\n",
       "      <td>correct</td>\n",
       "      <td>This is why joking about suicide on social med...</td>\n",
       "    </tr>\n",
       "    <tr>\n",
       "      <th>1</th>\n",
       "      <td>0</td>\n",
       "      <td>1</td>\n",
       "      <td>4</td>\n",
       "      <td>correct</td>\n",
       "      <td>Impulse - Ellen Hopkins-three teens meet in ho...</td>\n",
       "    </tr>\n",
       "    <tr>\n",
       "      <th>2</th>\n",
       "      <td>0</td>\n",
       "      <td>1</td>\n",
       "      <td>4</td>\n",
       "      <td>correct</td>\n",
       "      <td>@User A darker subjectPeople who want to commi...</td>\n",
       "    </tr>\n",
       "    <tr>\n",
       "      <th>3</th>\n",
       "      <td>0</td>\n",
       "      <td>1</td>\n",
       "      <td>4</td>\n",
       "      <td>correct</td>\n",
       "      <td>@User Dear God,Please continue working miracle...</td>\n",
       "    </tr>\n",
       "    <tr>\n",
       "      <th>4</th>\n",
       "      <td>0</td>\n",
       "      <td>1</td>\n",
       "      <td>4</td>\n",
       "      <td>correct</td>\n",
       "      <td>It Just Keeps Getting Worse: The Braxton Caner...</td>\n",
       "    </tr>\n",
       "  </tbody>\n",
       "</table>\n",
       "</div>"
      ],
      "text/plain": [
       "   notserious_unclear  focus  type    class  \\\n",
       "0                   0      1     4  correct   \n",
       "1                   0      1     4  correct   \n",
       "2                   0      1     4  correct   \n",
       "3                   0      1     4  correct   \n",
       "4                   0      1     4  correct   \n",
       "\n",
       "                                                text  \n",
       "0  This is why joking about suicide on social med...  \n",
       "1  Impulse - Ellen Hopkins-three teens meet in ho...  \n",
       "2  @User A darker subjectPeople who want to commi...  \n",
       "3  @User Dear God,Please continue working miracle...  \n",
       "4  It Just Keeps Getting Worse: The Braxton Caner...  "
      ]
     },
     "execution_count": 5,
     "metadata": {},
     "output_type": "execute_result"
    }
   ],
   "source": [
    "df.head()"
   ]
  },
  {
   "cell_type": "code",
   "execution_count": 6,
   "metadata": {
    "scrolled": true
   },
   "outputs": [
    {
     "data": {
      "text/plain": [
       "<module 'matplotlib.pyplot' from 'C:\\\\Users\\\\Hubert\\\\AppData\\\\Roaming\\\\Python\\\\Python36\\\\site-packages\\\\matplotlib\\\\pyplot.py'>"
      ]
     },
     "execution_count": 6,
     "metadata": {},
     "output_type": "execute_result"
    },
    {
     "data": {
      "image/png": "[encoded data removed]",
      "text/plain": [
       "<Figure size 432x288 with 1 Axes>"
      ]
     },
     "metadata": {},
     "output_type": "display_data"
    }
   ],
   "source": [
    "# here we print the class frequency distributions\n",
    "freq_combined = Counter(df[\"class\"].values)\n",
    "objects = []\n",
    "values = []\n",
    "for i in freq_combined.keys():\n",
    "    objects.append(i)\n",
    "for i in freq_combined.values():\n",
    "    values.append(i)\n",
    "    \n",
    "y_pos = np.arange(len(objects))\n",
    "\n",
    "plt.bar(y_pos, values, align='center', alpha=0.5)\n",
    "plt.xticks(y_pos, objects)\n",
    "plt.ylabel('Frequency ')\n",
    "plt.title('Class distribution tweets')\n",
    "plt.xticks(rotation=90)\n",
    "plt"
   ]
  },
  {
   "cell_type": "code",
   "execution_count": 7,
   "metadata": {},
   "outputs": [],
   "source": [
    "# we run the preprocessing from the /twitterFunctions/processing.py\n",
    "# here we use 3 functions (each loops over the entire dataset, they have to run sequentailly)\n",
    "# if it takes too long one can make one function with all preprocessing - this recudes the runtime significantly\n",
    "temp = df.text.apply(processMe)\n",
    "# emojy mapping\n",
    "emojis = temp.apply(emoji.emojize)\n",
    "emojis = emojis.apply(fix_emotes)\n",
    "cleaned_text = emojis\n",
    "X_train_str = process_token_fin(cleaned_text)"
   ]
  },
  {
   "cell_type": "code",
   "execution_count": 8,
   "metadata": {},
   "outputs": [],
   "source": [
    "# train val and test split\n",
    "# stratify=df[\"class\"] ensures that the subsets contain a similar distributions as original data\n",
    "X_train, X_test, y_train, y_test = train_test_split(X_train_str\n",
    "                    , df[\"class\"],test_size=0.2, random_state=1, stratify=df[\"class\"])\n",
    "\n",
    "X_train, X_val, y_train, y_val = train_test_split(X_train\n",
    "                    , y_train,test_size=0.2, random_state=1, stratify=y_train)"
   ]
  },
  {
   "cell_type": "code",
   "execution_count": 9,
   "metadata": {},
   "outputs": [],
   "source": [
    "# the model name can be any transformers model (see https://huggingface.co/transformers/pretrained_models.html)\n",
    "modelName = \"bert-base-uncased\"\n",
    "#modelName = \"xlnet-base-cased\"\n",
    "# set default parameters for deep learning\n",
    "lr = 5e-5\n",
    "epoch = 3\n",
    "seed = 1\n",
    "maxlen = 512 # max 512 for BERT based models, for twitter we use visual anaylsis to reduces to ~100\n",
    "# the smaller the lenght the quicker the training\n",
    "classNames2 = y_train.unique()\n",
    "t = text.Transformer(modelName, \n",
    "                     maxlen = maxlen,  \n",
    "                         class_names = classNames2)\n",
    "# to ensure as much reproducibility as possbile we set all python and package seeds\n",
    "# BERT results still vary form run to run with fixed seeds and paramters due to internal segmentation\n",
    "def set_seeds(seed):\n",
    "    os.environ['PYTHONHASHSEED']=str(seed)\n",
    "    random.seed(seed)\n",
    "    torch.manual_seed(seed)\n",
    "    torch.cuda.manual_seed_all(seed)\n",
    "    np.random.seed(seed)\n",
    "    tf.random.set_seed(seed)\n",
    "\n",
    "# train function takes training texts, training labels, validation texts, and validation labels\n",
    "# STRONGLY RECOMMNED USING adding a checkpoint folder by settting checkpoint_folder, e.g.:\n",
    "# .., checkpoint_folder=\"D:/Huber/checkpoint/\"\n",
    "# this will save the paramters of each epoch. We can load the best one after training has finished\n",
    "def train_learner(X_train, y_train, X_val, y_val, \n",
    "                  lr, epoch, seed, text_length , checkpoint_folder=None): \n",
    "    classNames = classNames2\n",
    "    \n",
    "    set_seeds(seed)\n",
    "\n",
    "    t = text.Transformer(modelName, maxlen=text_length,  \n",
    "                         class_names = classNames2)\n",
    "    trn = t.preprocess_train(X_train,  y_train)\n",
    "    val = t.preprocess_test(X_val, y_val)\n",
    "    model2 = t.get_classifier()\n",
    "    learner = ktrain.get_learner(model2, train_data=trn, val_data=val, batch_size=32)\n",
    "    #learner.lr_find(max_epochs=5)\n",
    "    learner.fit_onecycle(lr, epoch, checkpoint_folder=checkpoint_folder)\n",
    "    return (learner, t, trn, val, model2)\n",
    "    #return learner.lr_plot()\n",
    "    \n",
    "# function that returns performance metrics and confusion matrix / only prints to console\n",
    "def get_performance(labels, pred, classNames, score=\"macro\"):\n",
    "    f1 = f1_score(labels, pred, average=score)\n",
    "    prec = precision_score(labels, pred, average=score)\n",
    "    rec  = recall_score(labels, pred, average=score)\n",
    "    acc = accuracy_score(labels, pred)\n",
    "    print(\"; Prec: \", prec, \"; Rec: \", rec, \"F1: \", f1,   \"; Acc: \", acc)\n",
    "    print(confusion_matrix(labels, pred))\n",
    "    mat = confusion_matrix(labels, pred, labels=classNames)\n",
    "    return mat\n",
    "# function that uses a trained model and predicts on test set\n",
    "def predict_test(X_test, learner, t, trn):\n",
    "    trn=trn\n",
    "    predictor=ktrain.get_predictor(learner.model, preproc=t)\n",
    "    pred = predictor.predict(X_test)\n",
    "    return (np.squeeze(pred),predictor)\n",
    "# helper function used in synthetic data generation\n",
    "def filter_df(X,y,cond):\n",
    "    df_tr = pd.DataFrame({\"text\":X, \"class\":y})\n",
    "    df_minority = df_tr[df_tr[\"class\"]==cond]\n",
    "    df_minority\n",
    "    return df_minority"
   ]
  },
  {
   "cell_type": "code",
   "execution_count": 11,
   "metadata": {},
   "outputs": [],
   "source": [
    "# running grid search training TFIDF and SVM\n",
    "def run_SVM_CV(train_features, test_features, y_train, y_test, confusion = True, return_f1 = False, verbose = True):\n",
    "    metrics = np.zeros(4)\n",
    "    \n",
    "    # if u want to add SMOTE, just uncomment it in the pipline and paramters!\n",
    "    pipeline = Pipeline([\n",
    "    ('vect', TfidfVectorizer()),  #CountVectorizer\n",
    " #  (\"smote\", SMOTE(random_state=1, n_jobs=-1)), #uncomment me if SMOTE\n",
    "    ('clf', SVC(random_state=1)),\n",
    "])\n",
    "\n",
    "    # here we can play around with the parameters\n",
    "    # for SVM params check https://scikit-learn.org/stable/modules/generated/sklearn.svm.SVC.html\n",
    "    # for tfidf params check https://scikit-learn.org/stable/modules/generated/sklearn.feature_extraction.text.TfidfVectorizer.html\n",
    "    \n",
    "    parameters = {\n",
    "      #  'vect__max_df': (0.5, 0.75, 1.0),\n",
    "      #  \"vect__stop_words\":[None, \"english\"],\n",
    "    'vect__max_features': (None, 10000, 25000, 50000),\n",
    "   'vect__ngram_range': ( (1,1), (1, 2) ),  # unigrams or bigrams\n",
    "    #    \"smote__k_neighbors\" : [5], # uncommnet me if SMOTE\n",
    "        'clf__C': np.arange(0.01, 1.01, 0.1),\n",
    "                        'clf__kernel' : [ \"rbf\", \"linear\"],\n",
    "                      'clf__class_weight': [\"balanced\"],\n",
    "                      \"clf__decision_function_shape\":[\"ovo\", \"ovr\"], }\n",
    "    scorer = sklearn.metrics.make_scorer(f1_score, average = 'macro')\n",
    "    # cv=5 is a 5-fold cross validation\n",
    "    gs_clf = GridSearchCV(pipeline, parameters, n_jobs=-1, verbose=1, cv=5, scoring=scorer)\n",
    "    # runs gridsearch with pipeline and paramters \n",
    "    gs_clf.fit(train_features, y_train)\n",
    "    print(gs_clf.best_params_)\n",
    "    test_pred = gs_clf.predict(test_features)\n",
    "    metrics+= [f1_score(y_test, test_pred, average=\"macro\"),\n",
    "                              precision_score(y_test, test_pred, average=\"macro\"),\n",
    "                              recall_score(y_test, test_pred, average=\"macro\"),\n",
    "                             accuracy_score(y_test, test_pred)\n",
    "                      ]\n",
    "    if verbose:\n",
    "            print('F1: {:.3f} | Pr: {:.3f} | Re: {:.3f} | Accuracy: {:.3f} \\n'.format(*metrics))\n",
    "    if return_f1:\n",
    "            return f1\n",
    "    if confusion:\n",
    "            print( confusion_matrix(y_test, test_pred))\n",
    "    return gs_clf"
   ]
  },
  {
   "cell_type": "code",
   "execution_count": 12,
   "metadata": {},
   "outputs": [
    {
     "name": "stdout",
     "output_type": "stream",
     "text": [
      "Validation Performance: \n",
      "\n",
      "Fitting 5 folds for each of 320 candidates, totalling 1600 fits\n"
     ]
    },
    {
     "name": "stderr",
     "output_type": "stream",
     "text": [
      "[Parallel(n_jobs=-1)]: Using backend LokyBackend with 8 concurrent workers.\n",
      "[Parallel(n_jobs=-1)]: Done  34 tasks      | elapsed:    9.9s\n",
      "[Parallel(n_jobs=-1)]: Done 184 tasks      | elapsed:   30.8s\n",
      "[Parallel(n_jobs=-1)]: Done 434 tasks      | elapsed:  1.1min\n",
      "[Parallel(n_jobs=-1)]: Done 784 tasks      | elapsed:  1.9min\n",
      "[Parallel(n_jobs=-1)]: Done 1234 tasks      | elapsed:  2.9min\n",
      "[Parallel(n_jobs=-1)]: Done 1600 out of 1600 | elapsed:  3.8min finished\n"
     ]
    },
    {
     "name": "stdout",
     "output_type": "stream",
     "text": [
      "{'clf__C': 0.51, 'clf__class_weight': 'balanced', 'clf__decision_function_shape': 'ovo', 'clf__kernel': 'linear', 'vect__max_features': 10000, 'vect__ngram_range': (1, 2)}\n",
      "F1: 0.748 | Pr: 0.740 | Re: 0.760 | Accuracy: 0.801 \n",
      "\n",
      "[[323  60]\n",
      " [ 42  88]]\n",
      "Test Performance: \n",
      "\n",
      "; Prec:  0.7503340730665522 ; Rec:  0.7692904997818107 F1:  0.7585284817943778 ; Acc:  0.8096723868954758\n",
      "[[407  71]\n",
      " [ 51 112]]\n"
     ]
    },
    {
     "data": {
      "text/plain": [
       "(array([0.5, 1.5]), <a list of 2 Text yticklabel objects>)"
      ]
     },
     "execution_count": 12,
     "metadata": {},
     "output_type": "execute_result"
    },
    {
     "data": {
      "image/png": "[encoded data removed]",
      "text/plain": [
       "<Figure size 720x590.4 with 2 Axes>"
      ]
     },
     "metadata": {},
     "output_type": "display_data"
    }
   ],
   "source": [
    "print(\"Validation Performance: \\n\")\n",
    "model = run_SVM_CV(X_train, X_val, y_train, y_val)\n",
    "pred = model.predict(X_test)\n",
    "print(\"Test Performance: \\n\")\n",
    "mat = get_performance(y_test.values, pred, classNames2)\n",
    "\n",
    "labels = y_test.values\n",
    "index = columns = classNames2\n",
    "cm_df = pd.DataFrame(mat/np.sum(mat),columns,index)                      \n",
    "plt.figure(figsize=(10,8.2))  \n",
    "sns.heatmap(cm_df, annot=True, fmt=\".0%\"\n",
    "           )\n",
    "plt.yticks(rotation=0, fontsize=12) "
   ]
  },
  {
   "cell_type": "markdown",
   "metadata": {},
   "source": [
    "## Saving and loading sklearn models\n",
    "\n",
    "for more information check out this article: \n",
    "https://machinelearningmastery.com/save-load-machine-learning-models-python-scikit-learn/"
   ]
  },
  {
   "cell_type": "code",
   "execution_count": 13,
   "metadata": {},
   "outputs": [],
   "source": [
    "import pickle\n",
    "# save the model to disk\n",
    "filename = 'finalized_model.sav'\n",
    "pickle.dump(model, open(filename, 'wb'))"
   ]
  },
  {
   "cell_type": "code",
   "execution_count": 14,
   "metadata": {},
   "outputs": [
    {
     "name": "stdout",
     "output_type": "stream",
     "text": [
      "; Prec:  0.7503340730665522 ; Rec:  0.7692904997818107 F1:  0.7585284817943778 ; Acc:  0.8096723868954758\n",
      "[[407  71]\n",
      " [ 51 112]]\n"
     ]
    }
   ],
   "source": [
    "# loading the model from disk\n",
    "loaded_model = pickle.load(open(filename, 'rb'))\n",
    "result = loaded_model.predict(X_test)\n",
    "mat = get_performance(y_test.values, result, classNames2)\n"
   ]
  },
  {
   "cell_type": "markdown",
   "metadata": {},
   "source": [
    "## Training BERT model with original data"
   ]
  },
  {
   "cell_type": "code",
   "execution_count": null,
   "metadata": {},
   "outputs": [],
   "source": [
    "original_learner = train_learner(\n",
    "       X_train, y_train.values, \n",
    "        X_val, y_val.values,\n",
    "        lr= 1.5e-5, epoch=1, seed=1, text_length=80 , # parameters for the training\n",
    "        checkpoint_folder=\"D:/models/test/\"   # add the path where the checkpoints should be saved\n",
    "    )"
   ]
  },
  {
   "cell_type": "markdown",
   "metadata": {},
   "source": [
    "## After the training has finished, you will see the training statistics. I usually choose the epoch with the highest validation accuracy (if two performances were similar I chose the one with the lower validation loss).\n",
    "\n",
    "If you used a checkpoint folder, you can load the model with the best performance rather than the last epoch. E.g. if you trained for 5 epochs, the default behaviour is that the model will use the last run, i.e. epoch 5. But if the performance of epoch 5 is worse than epoch 3, you can manually load the weights of epoch 3. See below:"
   ]
  },
  {
   "cell_type": "code",
   "execution_count": null,
   "metadata": {
    "scrolled": false
   },
   "outputs": [],
   "source": [
    "original_learner[4].load_weights(\"D:/models/test/weights-01.hdf5\") # your path + weights-01.hdf5\n",
    "# where weights-*BEST_EPOCH*.hdf5\n",
    "\n",
    "learner_reloaded = ktrain.get_learner(original_learner[4], train_data=original_learner[2], val_data=original_learner[3], batch_size=2)\n",
    "\n",
    "model_ = learner_reloaded \n",
    "t_ = original_learner[1]\n",
    "trn_ = original_learner[2]\n",
    "\n",
    "# setting seeds (redundantly) before predicting validation set\n",
    "set_seeds(seed)\n",
    "# usually you only have to do this if you are interested in inter-class statistics of the valdiation set:D\n",
    "## PREDICT ON VALIDATION SET\n",
    "pred = predict_test(X_val, model_, \n",
    "                    t=t_,\n",
    "                    trn=trn_)\n",
    "predictor = pred[1]\n",
    "val = t_.preprocess_test(X_val, y_val.values)\n",
    "model_.validate(val_data= val )\n",
    "mat = get_performance(y_val.values, pred[0], classNames2)\n",
    "\n",
    "## PREDICT ON TEST SET\n",
    "set_seeds(seed)\n",
    "pred = predict_test(X_test, model_, \n",
    "                    t=t_,\n",
    "                    trn=trn_)\n",
    "predictor = pred[1]\n",
    "test = t_.preprocess_test(X_test, y_test.values)\n",
    "model_.validate(val_data= test , class_names = list(classNames2))\n",
    "mat = get_performance(y_test.values, pred[0], classNames2)"
   ]
  },
  {
   "cell_type": "code",
   "execution_count": null,
   "metadata": {},
   "outputs": [],
   "source": [
    "# in binary classification we can get interclass precision by using the confusion matrix\n",
    "mat.diagonal()/mat.sum(axis=0)"
   ]
  },
  {
   "cell_type": "markdown",
   "metadata": {},
   "source": [
    "## Saving a ktrain model\n",
    "\n",
    "If the test performance was good, and you want to save the actual model (not only the weights of the training) call **predictor.save( \"yourPath\")**."
   ]
  },
  {
   "cell_type": "code",
   "execution_count": null,
   "metadata": {},
   "outputs": [],
   "source": [
    "# saving the best model / predictor\n",
    "predictor.save('D:/models/Twitter_about_suicide_final')"
   ]
  },
  {
   "cell_type": "code",
   "execution_count": null,
   "metadata": {},
   "outputs": [],
   "source": [
    "#mat = get_performance(y_test.values, pred, classNames2)\n",
    "mat = [[21,5], [10,64]]\n",
    "labels = y_test.values\n",
    "capitalized = [i.capitalize() for i in classNames2]\n",
    "index = columns = capitalized\n",
    "cm_df = pd.DataFrame(mat/np.sum(mat),columns,index)                      \n",
    "plt.figure(figsize=(6,4.92))  \n",
    "sns.heatmap(cm_df, annot=True, fmt=\".0%\"\n",
    "           )\n",
    "plt.yticks(rotation=0, fontsize=12) \n",
    "plt.xlabel(\"Predicted class\", fontsize=20)\n",
    "plt.ylabel(\"Original class\", fontsize=20)\n",
    "plt.title(\"Confusion matrix test set, n=641\", fontsize=20)\n",
    "plt.show()"
   ]
  },
  {
   "cell_type": "markdown",
   "metadata": {},
   "source": [
    "# Testing undersampling"
   ]
  },
  {
   "cell_type": "code",
   "execution_count": 16,
   "metadata": {},
   "outputs": [],
   "source": [
    "# create two subset that only contain correct / false classes respectively\n",
    "major = filter_df(X_train,y_train.values,\"correct\")\n",
    "minor = filter_df(X_train,y_train.values,\"false\")"
   ]
  },
  {
   "cell_type": "code",
   "execution_count": 17,
   "metadata": {},
   "outputs": [],
   "source": [
    "seed = 1\n",
    "set_seeds(seed)\n",
    "# sample number of minority observations from majoriy df\n",
    "AS = major.sample(n=int(minor.shape[0]),  random_state=seed)"
   ]
  },
  {
   "cell_type": "code",
   "execution_count": 18,
   "metadata": {},
   "outputs": [
    {
     "data": {
      "text/plain": [
       "Counter({'false': 520, 'correct': 520})"
      ]
     },
     "execution_count": 18,
     "metadata": {},
     "output_type": "execute_result"
    }
   ],
   "source": [
    "df_new = AS\n",
    "df_train = minor\n",
    "df_train = df_train.append(df_new, ignore_index = True)\n",
    "Counter(df_train[\"class\"])"
   ]
  },
  {
   "cell_type": "code",
   "execution_count": null,
   "metadata": {},
   "outputs": [],
   "source": [
    "# trainign undersampled learner\n",
    "undersampled_learner = train_learner(\n",
    "        df_train.text.values, df_train[\"class\"].values,\n",
    "        X_val, y_val.values,\n",
    "       5e-5, 3, 2, 80\n",
    ")"
   ]
  },
  {
   "cell_type": "code",
   "execution_count": null,
   "metadata": {},
   "outputs": [],
   "source": [
    "undersampled_learner[0].validate(class_names = list(classNames2))"
   ]
  },
  {
   "cell_type": "code",
   "execution_count": null,
   "metadata": {},
   "outputs": [],
   "source": [
    "set_seeds(seed)\n",
    "\n",
    "pred = predict_test(X_test, undersampled_learner[0], \n",
    "                    t=undersampled_learner[1],\n",
    "                    trn=undersampled_learner[2])\n",
    "\n",
    "test = undersampled_learner[1].preprocess_test(X_test, y_test.values)\n",
    "undersampled_learner[0].validate(val_data= test , class_names = list(classNames2))"
   ]
  },
  {
   "cell_type": "code",
   "execution_count": null,
   "metadata": {},
   "outputs": [],
   "source": [
    "mat = get_performance(y_test.values, pred, classNames2)\n",
    "labels = y_test.values\n",
    "index = columns = classNames2\n",
    "cm_df = pd.DataFrame(mat/np.sum(mat),columns,index)                      \n",
    "plt.figure(figsize=(10,6))  \n",
    "sns.heatmap(cm_df, annot=True, fmt=\".0%\"\n",
    "           )\n",
    "plt.yticks(rotation=0) \n",
    "plt.xlabel(\"Predicted class\")\n",
    "plt.ylabel(\"Original class\")\n",
    "plt.title(\"Confusion matrix test set, n=641\")\n"
   ]
  },
  {
   "cell_type": "code",
   "execution_count": null,
   "metadata": {},
   "outputs": [],
   "source": [
    "#undersampled_learner[0].model.save_pretrained(\"D:/models/Suicidality_BERT_Undersampled_best\")"
   ]
  },
  {
   "cell_type": "markdown",
   "metadata": {},
   "source": [
    "# Testing WordNet Synonym Lookup (get new df_train)\n",
    "\n",
    "This functions basically does three things.\n",
    "1. determine the majority class, get its frequency and ingore it.\n",
    "2. iterate through all remaining classes and:\n",
    "    use wordnet to replace aug_p words.\n",
    "    repeat until the class frequency == majority class frequency.\n",
    "   \n",
    "The result is a perfectly balanced training dataset, i.e. all classes have the same number of observations. Above you can find the code how to sample from a saved csv file. (see section @Use this when you have a synthetic training set already and want to continue training with synthetic training set.)"
   ]
  },
  {
   "cell_type": "code",
   "execution_count": 21,
   "metadata": {},
   "outputs": [
    {
     "name": "stderr",
     "output_type": "stream",
     "text": [
      "\r",
      "  0%|                                                                                            | 0/2 [00:00<?, ?it/s]"
     ]
    },
    {
     "name": "stdout",
     "output_type": "stream",
     "text": [
      "getting base frequency\n",
      "done, first class correct\n"
     ]
    },
    {
     "name": "stderr",
     "output_type": "stream",
     "text": [
      "100%|████████████████████████████████████████████████████████████████████████████████████| 2/2 [01:50<00:00, 55.24s/it]"
     ]
    },
    {
     "name": "stdout",
     "output_type": "stream",
     "text": [
      "done, first class false\n"
     ]
    },
    {
     "name": "stderr",
     "output_type": "stream",
     "text": [
      "\n"
     ]
    }
   ],
   "source": [
    "# set augmentation probability\n",
    "aug_p = 0.3\n",
    "\n",
    "new_texts = []\n",
    "new_classes = []\n",
    "np.random.seed(1)\n",
    "random.seed(1)\n",
    "freq_origin = Counter(y_train.values)\n",
    "majority_freq =  freq_origin.most_common()[0][1]\n",
    "majority_class = freq_origin.most_common()[0][0]\n",
    "seed = 1\n",
    "aug = naw.SynonymAug(aug_src='wordnet',\n",
    "                     aug_p=aug_p)\n",
    "for i in tqdm(freq_origin.most_common()):\n",
    "    df_tmp = filter_df(X_train, y_train.values, i[0])\n",
    "    if i[0] == majority_class:\n",
    "        print(\"getting base frequency\")\n",
    "    else:\n",
    "        num_lang = ( (majority_freq-i[1]) /  i[1] )\n",
    "        num_samples = num_lang * i[1]\n",
    "        if num_samples < i[1]:\n",
    "            AS = df_tmp[\"text\"].sample(n=int(num_samples),  random_state=seed)\n",
    "            TT = AS.values.tolist()\n",
    "            for tweet in TT:\n",
    "                augmented_text = aug.augment(tweet)\n",
    "                new_texts.append(augmented_text)\n",
    "                new_classes.append(i[0])\n",
    "        else:\n",
    "            for j in range(math.ceil(num_lang)):\n",
    "                if num_samples < i[1]:\n",
    "                    AS = df_tmp[\"text\"].sample(n=int(num_samples),  random_state=seed)\n",
    "                    TT = AS.values.tolist()\n",
    "                    for tweet in TT:\n",
    "                        augmented_text = aug.augment(tweet)\n",
    "                        new_texts.append(augmented_text)\n",
    "                        new_classes.append(i[0])\n",
    "                else:\n",
    "                    # translate entire set once\n",
    "                    AS = df_tmp[\"text\"]\n",
    "                    TT = AS.values.tolist()\n",
    "                    for tweet in TT:\n",
    "                        augmented_text = aug.augment(tweet)\n",
    "                        new_texts.append(augmented_text)\n",
    "                        new_classes.append(i[0])\n",
    "                    num_samples -= len(TT)        \n",
    "    seed+=1\n",
    "    print(\"done, first class\", i[0])"
   ]
  },
  {
   "cell_type": "markdown",
   "metadata": {},
   "source": [
    "## saving the dataset (uncomment)"
   ]
  },
  {
   "cell_type": "code",
   "execution_count": 22,
   "metadata": {},
   "outputs": [
    {
     "name": "stdout",
     "output_type": "stream",
     "text": [
      "Counter({'false': 1528, 'correct': 1528})\n"
     ]
    }
   ],
   "source": [
    "df_new = pd.DataFrame({\n",
    "    \"text\": new_texts, \n",
    "    \"class\": new_classes\n",
    "})\n",
    "\n",
    "df_train = pd.DataFrame({\n",
    "    \"text\": X_train, \n",
    "    \"class\":  y_train.values\n",
    "})\n",
    "# appending the synthetic data to the orinignal traning data\n",
    "df_train = df_train.append(df_new, ignore_index = True)\n",
    "print(Counter(df_train[\"class\"]))\n",
    "\n",
    "# if you want to save or load use this: (uncommented ofc)\n",
    "#df_train.to_csv(\"40pc_oversampled.csv\", sep=\"|\")\n",
    "#df_train = pd.read_csv(\"40pc_oversampled.csv\", sep=\"|\")"
   ]
  },
  {
   "cell_type": "markdown",
   "metadata": {},
   "source": [
    "# PPDB synonym lookup (get new df_train)\n",
    "\n",
    "This functions basically does three things.\n",
    "1. determine the majority class, get its frequency and ingore it.\n",
    "2. iterate through all remaining classes and:\n",
    "    use PPDB to replace aug_p words.\n",
    "    repeat until the class frequency == majority class frequency.\n",
    "   \n",
    "The result is a perfectly balanced training dataset, i.e. all classes have the same number of observations. Above you can find the code how to sample from a saved csv file. (see section @Use this when you have a synthetic training set already and want to continue training with synthetic training set.)"
   ]
  },
  {
   "cell_type": "code",
   "execution_count": 23,
   "metadata": {},
   "outputs": [
    {
     "name": "stderr",
     "output_type": "stream",
     "text": [
      "\r",
      "  0%|                                                                                            | 0/2 [00:00<?, ?it/s]"
     ]
    },
    {
     "name": "stdout",
     "output_type": "stream",
     "text": [
      "getting base frequency\n",
      "done, first class correct\n"
     ]
    },
    {
     "name": "stderr",
     "output_type": "stream",
     "text": [
      "100%|████████████████████████████████████████████████████████████████████████████████████| 2/2 [01:50<00:00, 55.47s/it]"
     ]
    },
    {
     "name": "stdout",
     "output_type": "stream",
     "text": [
      "done, first class false\n"
     ]
    },
    {
     "name": "stderr",
     "output_type": "stream",
     "text": [
      "\n"
     ]
    }
   ],
   "source": [
    "# set augmentation probability\n",
    "aug_p = 0.2\n",
    "\n",
    "new_texts = []\n",
    "new_classes = []\n",
    "np.random.seed(1)\n",
    "random.seed(1)\n",
    "freq_origin = Counter(y_train.values)\n",
    "majority_freq =  freq_origin.most_common()[0][1]\n",
    "majority_class = freq_origin.most_common()[0][0]\n",
    "seed = 1\n",
    "# download model here:\n",
    "    # http://nlpgrid.seas.upenn.edu/PPDB/eng/ppdb-2.0-tldr.gz\n",
    "# and change the model path:\n",
    "aug = naw.SynonymAug(aug_src='ppdb', model_path=\"D:\\models\\ppdb-2.0-tldr\\ppdb-2.0-tldr\",\n",
    "                     aug_p=aug_p)\n",
    "for i in tqdm(freq_origin.most_common()):\n",
    "    df_tmp = filter_df(X_train, y_train.values, i[0])\n",
    "    if i[0] == majority_class:\n",
    "        print(\"getting base frequency\")\n",
    "    else:\n",
    "        num_lang = ( (majority_freq-i[1]) /  i[1] )\n",
    "        num_samples = num_lang * i[1]\n",
    "        if num_samples < i[1]:\n",
    "            AS = df_tmp[\"text\"].sample(n=int(num_samples),  random_state=seed)\n",
    "            TT = AS.values.tolist()\n",
    "            for tweet in TT:\n",
    "                augmented_text = aug.augment(tweet)\n",
    "                new_texts.append(augmented_text)\n",
    "                new_classes.append(i[0])\n",
    "        else:\n",
    "            for j in range(math.ceil(num_lang)):\n",
    "                if num_samples < i[1]:\n",
    "                    AS = df_tmp[\"text\"].sample(n=int(num_samples),  random_state=seed)\n",
    "                    TT = AS.values.tolist()\n",
    "                    for tweet in TT:\n",
    "                        augmented_text = aug.augment(tweet)\n",
    "                        new_texts.append(augmented_text)\n",
    "                        new_classes.append(i[0])\n",
    "                else:\n",
    "                    # translate entire set once\n",
    "                    AS = df_tmp[\"text\"]\n",
    "                    TT = AS.values.tolist()\n",
    "                    for tweet in TT:\n",
    "                        augmented_text = aug.augment(tweet)\n",
    "                        new_texts.append(augmented_text)\n",
    "                        new_classes.append(i[0])\n",
    "                    num_samples -= len(TT)        \n",
    "    seed+=1\n",
    "    print(\"done, first class\", i[0])"
   ]
  },
  {
   "cell_type": "code",
   "execution_count": 24,
   "metadata": {},
   "outputs": [
    {
     "name": "stdout",
     "output_type": "stream",
     "text": [
      "Counter({'false': 1528, 'correct': 1528})\n"
     ]
    }
   ],
   "source": [
    "# this combines the original dataframe with the synthetic one\n",
    "df_new = pd.DataFrame({\n",
    "    \"text\": new_texts, \n",
    "    \"class\": new_classes\n",
    "})\n",
    "\n",
    "df_train = pd.DataFrame({\n",
    "    \"text\": X_train, \n",
    "    \"class\":  y_train.values\n",
    "})\n",
    "\n",
    "df_train = df_train.append(df_new, ignore_index = True)\n",
    "\n",
    "print(Counter(df_train[\"class\"]))\n",
    "\n",
    "# saving the data (the translation takes a while, saving is recommended and can be skipped once u have the csv)\n",
    "# df_train.to_csv(\"40pc_oversampled.csv\", sep=\"|\")"
   ]
  },
  {
   "cell_type": "markdown",
   "metadata": {},
   "source": [
    "# Use this code chunk to modify the amount of synthetic data that will be added to the original data. \n",
    "\n",
    "By default it will be 100% syntehtic data, i.e. the final class distribtuion frequency will be the exact same for both classes."
   ]
  },
  {
   "cell_type": "code",
   "execution_count": 25,
   "metadata": {},
   "outputs": [
    {
     "name": "stdout",
     "output_type": "stream",
     "text": [
      "Counter({'correct': 1528, 'false': 822})\n"
     ]
    }
   ],
   "source": [
    "# load syntehtic training data if saved\n",
    "#df_train = pd.read_csv(\"40pc_oversampled.csv\", sep=\"|\")\n",
    "\n",
    "# I always append the synthetic samples to the original training data\n",
    "# this ensures that df_train_en only contains the original training data\n",
    "df_train_en = df_train.iloc[0:len(X_train)]\n",
    "# determine the fraction of syntehtic data you want to add\n",
    "fc_ = 0.3\n",
    "# remove original training data from full training data (original + synthetic)\n",
    "a = df_train.drop(df_train_en.index, axis=0)\n",
    "# randomly sample fc_ fraction of synthtic data\n",
    "b = a.sample(random_state=1, frac=fc_)\n",
    "# add fc_ synthetic data to original\n",
    "c = df_train_en.append(b, ignore_index=True)\n",
    "# randomly shuffle final training data (original + fc_ syntetic)\n",
    "df_train = c.sample(frac=1)\n",
    "\n",
    "print( Counter(df_train[\"class\"].values))"
   ]
  },
  {
   "cell_type": "markdown",
   "metadata": {},
   "source": [
    "# Code chunk that can be used to train with df_train (for all synthetic data)"
   ]
  },
  {
   "cell_type": "code",
   "execution_count": null,
   "metadata": {},
   "outputs": [],
   "source": [
    "oversampled_learner = train_learner(\n",
    "        df_train.text.values, df_train[\"class\"].values, #X_train, y_train.values,\n",
    "        X_val, y_val.values,\n",
    "        lr= 1.5e-5, epoch=5, seed=1, text_length=80 , # parameters for the training\n",
    "        checkpoint_folder=\"D:/models/test/\"   # add the path where the checkpoints should be saved\n",
    "    )"
   ]
  },
  {
   "cell_type": "code",
   "execution_count": null,
   "metadata": {},
   "outputs": [],
   "source": [
    "oversampled_learner[0].validate(class_names = list(classNames2))"
   ]
  },
  {
   "cell_type": "code",
   "execution_count": null,
   "metadata": {},
   "outputs": [],
   "source": [
    "set_seeds(seed)\n",
    "\n",
    "pred = predict_test(X_test, oversampled_learner[0], \n",
    "                    t=oversampled_learner[1],\n",
    "                    trn=oversampled_learner[2])\n",
    "\n",
    "test = oversampled_learner[1].preprocess_test(X_test, y_test.values)\n",
    "oversampled_learner[0].validate(val_data= test , class_names = list(classNames2))"
   ]
  },
  {
   "cell_type": "code",
   "execution_count": null,
   "metadata": {},
   "outputs": [],
   "source": [
    "mat = get_performance(y_test.values, pred, classNames2)\n",
    "labels = y_test.values\n",
    "index = columns = classNames2\n",
    "cm_df = pd.DataFrame(mat,columns,index)                      \n",
    "plt.figure(figsize=(10,6))  \n",
    "sns.heatmap(cm_df, annot=True)"
   ]
  },
  {
   "cell_type": "code",
   "execution_count": null,
   "metadata": {},
   "outputs": [],
   "source": []
  },
  {
   "cell_type": "code",
   "execution_count": null,
   "metadata": {},
   "outputs": [],
   "source": []
  },
  {
   "cell_type": "code",
   "execution_count": null,
   "metadata": {},
   "outputs": [],
   "source": [
    "df_test = pd.DataFrame({\n",
    "    \"text\": X_test, \n",
    "    \"true_label\": y_test,\n",
    "    \"predicted_label\": pred\n",
    "})\n"
   ]
  },
  {
   "cell_type": "markdown",
   "metadata": {},
   "source": [
    "## The code below helps us visualize the models decisions\n",
    "\n",
    "I used this and below you can also see the code for the word clouds"
   ]
  },
  {
   "cell_type": "code",
   "execution_count": null,
   "metadata": {},
   "outputs": [],
   "source": [
    "a = reloaded_predictor.explain(X_test[0],all_targets=False)"
   ]
  },
  {
   "cell_type": "code",
   "execution_count": null,
   "metadata": {},
   "outputs": [],
   "source": [
    "reloaded_predictor.explain(X_test[0])\n",
    "#a = reloaded_predictor.explain(X_test[0],weights_df=True,all_targets=False)"
   ]
  },
  {
   "cell_type": "code",
   "execution_count": null,
   "metadata": {},
   "outputs": [],
   "source": [
    "import eli5\n",
    "from eli5.lime import TextExplainer\n",
    "doc = X_test[0]"
   ]
  },
  {
   "cell_type": "code",
   "execution_count": null,
   "metadata": {},
   "outputs": [],
   "source": [
    "te = TextExplainer(random_state=42, n_samples=2500)\n",
    "_ = te.fit(doc, reloaded_predictor.predict_proba)"
   ]
  },
  {
   "cell_type": "code",
   "execution_count": null,
   "metadata": {},
   "outputs": [],
   "source": [
    "labels[0:1]"
   ]
  },
  {
   "cell_type": "code",
   "execution_count": null,
   "metadata": {},
   "outputs": [],
   "source": [
    "a = te.explain_prediction(target_names = reloaded_predictor.c, targets= [pred[0]])"
   ]
  },
  {
   "cell_type": "code",
   "execution_count": null,
   "metadata": {},
   "outputs": [],
   "source": [
    "a"
   ]
  },
  {
   "cell_type": "code",
   "execution_count": null,
   "metadata": {},
   "outputs": [],
   "source": []
  },
  {
   "cell_type": "code",
   "execution_count": null,
   "metadata": {},
   "outputs": [],
   "source": [
    "from eli5 import formatters"
   ]
  },
  {
   "cell_type": "code",
   "execution_count": null,
   "metadata": {},
   "outputs": [],
   "source": []
  },
  {
   "cell_type": "code",
   "execution_count": null,
   "metadata": {},
   "outputs": [],
   "source": []
  },
  {
   "cell_type": "code",
   "execution_count": null,
   "metadata": {},
   "outputs": [],
   "source": [
    "from tqdm import tqdm\n",
    "c = 0\n",
    "c1 = []\n",
    "c2 = []\n",
    "c3 = []\n",
    "c4 = []\n",
    "for i in tqdm(X_test):\n",
    "    doc = i\n",
    "    te = TextExplainer(random_state=42, n_samples=1500)\n",
    "    _ = te.fit(doc, reloaded_predictor.predict_proba)\n",
    "    a = te.explain_prediction(target_names = reloaded_predictor.c, targets= [pred[c]])\n",
    "    df_weights = formatters.format_as_dataframe(a)\n",
    "    c+=1\n",
    "    c1.append(df_weights[0:1].values[0][1])\n",
    "    c2.append(df_weights[1:2].values[0][1])\n",
    "    c3.append(df_weights[2:3].values[0][1])\n",
    "    c4.append(df_weights[3:4].values[0][1])"
   ]
  },
  {
   "cell_type": "code",
   "execution_count": null,
   "metadata": {},
   "outputs": [],
   "source": [
    "df_test = pd.DataFrame({\n",
    "    \"text\": X_test, \n",
    "    \"true_label\": y_test,\n",
    "    \"predicted_label\": pred,\n",
    "    \"1st feature\":c1,\n",
    "    \"2nd feature\":c2,\n",
    "    \"3rd feature\":c3,\n",
    "    \"4th feature\":c4\n",
    "})"
   ]
  },
  {
   "cell_type": "code",
   "execution_count": null,
   "metadata": {},
   "outputs": [],
   "source": [
    "df_test.to_csv(\"test_withPredictions.csv\",index=False)"
   ]
  },
  {
   "cell_type": "code",
   "execution_count": null,
   "metadata": {},
   "outputs": [],
   "source": [
    "df_test.head()"
   ]
  },
  {
   "cell_type": "code",
   "execution_count": null,
   "metadata": {},
   "outputs": [],
   "source": [
    "from wordcloud import WordCloud\n",
    "Counter(df_test[\"predicted_label\"])"
   ]
  },
  {
   "cell_type": "code",
   "execution_count": null,
   "metadata": {},
   "outputs": [],
   "source": [
    "dfdf = df_test[df_test[\"predicted_label\"]==\"Bereaved_negative\"]"
   ]
  },
  {
   "cell_type": "code",
   "execution_count": null,
   "metadata": {},
   "outputs": [],
   "source": [
    "dfdf"
   ]
  },
  {
   "cell_type": "code",
   "execution_count": null,
   "metadata": {},
   "outputs": [],
   "source": [
    "a = dfdf[\"1st feature\"].values\n",
    "b = dfdf[\"2nd feature\"].values\n",
    "c = dfdf[\"3rd feature\"].values\n",
    "d = dfdf[\"4th feature\"].values"
   ]
  },
  {
   "cell_type": "code",
   "execution_count": null,
   "metadata": {},
   "outputs": [],
   "source": [
    "A = np.concatenate((a,b,c,d))\n",
    "tuples = [tuple(x) for x in a]\n",
    "fin = \"\"\n",
    "for i in A:\n",
    "    fin+=i+ \" \""
   ]
  },
  {
   "cell_type": "code",
   "execution_count": null,
   "metadata": {},
   "outputs": [],
   "source": [
    "wordcloud = WordCloud(width=800, height=400).generate(fin)\n",
    "plt.figure(dpi=800, facecolor='k')\n",
    "plt.imshow(wordcloud)\n",
    "plt.axis(\"off\")\n",
    "plt.tight_layout(pad=0)\n",
    "plt.show()\n",
    "#plt.savefig(\"graph.svg\")\n"
   ]
  },
  {
   "cell_type": "code",
   "execution_count": null,
   "metadata": {},
   "outputs": [],
   "source": []
  },
  {
   "cell_type": "code",
   "execution_count": null,
   "metadata": {},
   "outputs": [],
   "source": []
  }
 ],
 "metadata": {
  "kernelspec": {
   "display_name": "Python 3",
   "language": "python",
   "name": "python3"
  },
  "language_info": {
   "codemirror_mode": {
    "name": "ipython",
    "version": 3
   },
   "file_extension": ".py",
   "mimetype": "text/x-python",
   "name": "python",
   "nbconvert_exporter": "python",
   "pygments_lexer": "ipython3",
   "version": "3.6.5"
  }
 },
 "nbformat": 4,
 "nbformat_minor": 2
}
